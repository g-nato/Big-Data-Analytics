{
 "cells": [
  {
   "cell_type": "code",
   "execution_count": null,
   "id": "d9290b0d",
   "metadata": {},
   "outputs": [],
   "source": [
    "#!/usr/bin/env python\n",
    "\n",
    "import sys\n",
    "import csv\n",
    "import nltk\n",
    "from nltk.corpus import stopwords\n",
    "from nltk.tokenize import word_tokenize\n",
    "\n",
    "# Download stopwords\n",
    "nltk.download('punkt', quiet=True)\n",
    "nltk.download('stopwords', quiet=True)\n",
    "\n",
    "# Upload stopwords in English\n",
    "stop_words = set(stopwords.words('english'))\n",
    "\n",
    "# Reading CSV from stdin\n",
    "reader = csv.reader(sys.stdin)\n",
    "header = next(reader)  \n",
    "\n",
    "# Find the index of the 'title' column.\n",
    "title_index = header.index('title')\n",
    "\n",
    "for row in reader:\n",
    "    title = row[title_index]\n",
    "    tokens = word_tokenize(title)\n",
    "    tokens = [word for word in tokens if word.lower() not in stop_words]\n",
    "    c_tokens = [''.join(e for e in token if e.isalnum()) for token in tokens]\n",
    "    c_tokens = [x for x in c_tokens if x]\n",
    "    for splt in c_tokens:\n",
    "        print(f\"{splt.lower()}\\t1\")\n",
    "\n"
   ]
  }
 ],
 "metadata": {
  "kernelspec": {
   "display_name": "Python 3 (ipykernel)",
   "language": "python",
   "name": "python3"
  },
  "language_info": {
   "codemirror_mode": {
    "name": "ipython",
    "version": 3
   },
   "file_extension": ".py",
   "mimetype": "text/x-python",
   "name": "python",
   "nbconvert_exporter": "python",
   "pygments_lexer": "ipython3",
   "version": "3.9.12"
  }
 },
 "nbformat": 4,
 "nbformat_minor": 5
}

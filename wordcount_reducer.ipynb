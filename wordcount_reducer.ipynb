{
 "cells": [
  {
   "cell_type": "code",
   "execution_count": null,
   "id": "b2013e7b",
   "metadata": {},
   "outputs": [],
   "source": [
    "#!/usr/bin/env python\n",
    "\n",
    "import sys\n",
    "from collections import Counter\n",
    "\n",
    "count = Counter()\n",
    "\n",
    "# Read input from STDIN\n",
    "for line in sys.stdin:\n",
    "    word, count_str = line.strip().split('\\t')\n",
    "    count[word] += int(count_str)\n",
    "\n",
    "# Stamp the result \n",
    "for word, cnt in count.items():\n",
    "    print(f\"{word}\\t{cnt}\")\n",
    "\n",
    "    \n",
    "    \n",
    "    \n"
   ]
  }
 ],
 "metadata": {
  "kernelspec": {
   "display_name": "Python 3 (ipykernel)",
   "language": "python",
   "name": "python3"
  },
  "language_info": {
   "codemirror_mode": {
    "name": "ipython",
    "version": 3
   },
   "file_extension": ".py",
   "mimetype": "text/x-python",
   "name": "python",
   "nbconvert_exporter": "python",
   "pygments_lexer": "ipython3",
   "version": "3.9.12"
  }
 },
 "nbformat": 4,
 "nbformat_minor": 5
}
